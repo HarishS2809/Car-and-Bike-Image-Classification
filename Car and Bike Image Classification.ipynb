{
 "cells": [
  {
   "cell_type": "markdown",
   "id": "4bf5567e",
   "metadata": {},
   "source": [
    "# Car and Bike Image Classification"
   ]
  },
  {
   "cell_type": "markdown",
   "id": "74a25f1a",
   "metadata": {},
   "source": [
    "## Importing Libraries"
   ]
  },
  {
   "cell_type": "code",
   "execution_count": 1,
   "id": "618f02a7",
   "metadata": {},
   "outputs": [],
   "source": [
    "import tensorflow as tf\n",
    "from keras.preprocessing.image import ImageDataGenerator"
   ]
  },
  {
   "cell_type": "markdown",
   "id": "851030d7",
   "metadata": {},
   "source": [
    "## Data augmentation and preprocessing for the training set"
   ]
  },
  {
   "cell_type": "code",
   "execution_count": 2,
   "id": "b0057a60",
   "metadata": {},
   "outputs": [],
   "source": [
    "train_datagen = ImageDataGenerator(rescale = 1./255,\n",
    "                                  shear_range = 0.2,\n",
    "                                  zoom_range = 0.2,\n",
    "                                  horizontal_flip = True)"
   ]
  },
  {
   "cell_type": "markdown",
   "id": "8145b516",
   "metadata": {},
   "source": [
    "## Loading and preprocessing the training set"
   ]
  },
  {
   "cell_type": "code",
   "execution_count": 3,
   "id": "358cb435",
   "metadata": {},
   "outputs": [
    {
     "name": "stdout",
     "output_type": "stream",
     "text": [
      "Found 2386 images belonging to 2 classes.\n"
     ]
    }
   ],
   "source": [
    "training_set = train_datagen.flow_from_directory('C:/Users/haris/Downloads/Deep Learning/Car and bike image classification/Car-Bike-Dataset/train',\n",
    "                                                target_size = (64,64),\n",
    "                                                batch_size = 32,\n",
    "                                                class_mode = 'binary')"
   ]
  },
  {
   "cell_type": "markdown",
   "id": "b38349be",
   "metadata": {},
   "source": [
    "## Data augmentation and preprocessing for the test set"
   ]
  },
  {
   "cell_type": "code",
   "execution_count": 4,
   "id": "260d9dd5",
   "metadata": {},
   "outputs": [
    {
     "name": "stdout",
     "output_type": "stream",
     "text": [
      "Found 1614 images belonging to 2 classes.\n"
     ]
    }
   ],
   "source": [
    "test_datagen = ImageDataGenerator(rescale = 1./255,\n",
    "                                  shear_range = 0.2,\n",
    "                                  zoom_range = 0.2,\n",
    "                                  horizontal_flip = True)\n",
    "\n",
    "#Loading and preprocessing the test set\n",
    "test_set = test_datagen.flow_from_directory('C:/Users/haris/Downloads/Deep Learning/Car and bike image classification/Car-Bike-Dataset/test',\n",
    "                                                target_size = (64,64),\n",
    "                                                batch_size = 32,\n",
    "                                                class_mode = 'binary')"
   ]
  },
  {
   "cell_type": "markdown",
   "id": "c2f01171",
   "metadata": {},
   "source": [
    "## Creating the CNN model"
   ]
  },
  {
   "cell_type": "code",
   "execution_count": 5,
   "id": "b8dd8d93",
   "metadata": {},
   "outputs": [],
   "source": [
    "cnn = tf.keras.models.Sequential()"
   ]
  },
  {
   "cell_type": "markdown",
   "id": "7085d6b4",
   "metadata": {},
   "source": [
    "### Adding the first convolutional layer"
   ]
  },
  {
   "cell_type": "code",
   "execution_count": 6,
   "id": "e593dc78",
   "metadata": {},
   "outputs": [],
   "source": [
    "cnn.add(tf.keras.layers.Conv2D(filters=32,kernel_size=3,activation='relu',\n",
    "                               input_shape=[64,64,3]))"
   ]
  },
  {
   "cell_type": "markdown",
   "id": "68d87ef9",
   "metadata": {},
   "source": [
    "### Adding a max pooling layer"
   ]
  },
  {
   "cell_type": "code",
   "execution_count": 7,
   "id": "fb40e010",
   "metadata": {},
   "outputs": [],
   "source": [
    "cnn.add(tf.keras.layers.MaxPool2D(pool_size=2,strides=2))"
   ]
  },
  {
   "cell_type": "markdown",
   "id": "1458daa8",
   "metadata": {},
   "source": [
    "### Adding the second convolutional layer"
   ]
  },
  {
   "cell_type": "code",
   "execution_count": 8,
   "id": "531fe62a",
   "metadata": {},
   "outputs": [],
   "source": [
    "cnn.add(tf.keras.layers.Conv2D(filters=32,kernel_size=3,activation='relu',\n",
    "                               input_shape=[64,64,3]))"
   ]
  },
  {
   "cell_type": "markdown",
   "id": "fc675e88",
   "metadata": {},
   "source": [
    "### Adding another max pooling layer"
   ]
  },
  {
   "cell_type": "code",
   "execution_count": 9,
   "id": "67d1762b",
   "metadata": {},
   "outputs": [],
   "source": [
    "cnn.add(tf.keras.layers.MaxPool2D(pool_size=2,strides=2))"
   ]
  },
  {
   "cell_type": "markdown",
   "id": "70aeb895",
   "metadata": {},
   "source": [
    "### Flattening the 2D output to 1D"
   ]
  },
  {
   "cell_type": "code",
   "execution_count": 10,
   "id": "3012d72f",
   "metadata": {},
   "outputs": [],
   "source": [
    "cnn.add(tf.keras.layers.Flatten())"
   ]
  },
  {
   "cell_type": "markdown",
   "id": "9f877c5c",
   "metadata": {},
   "source": [
    "### Adding a fully connected layer"
   ]
  },
  {
   "cell_type": "code",
   "execution_count": 11,
   "id": "e6e366ee",
   "metadata": {},
   "outputs": [],
   "source": [
    "cnn.add(tf.keras.layers.Dense(units=128,activation='relu'))"
   ]
  },
  {
   "cell_type": "markdown",
   "id": "2f7c3d73",
   "metadata": {},
   "source": [
    "### Adding the output layer"
   ]
  },
  {
   "cell_type": "code",
   "execution_count": 12,
   "id": "7f3f1477",
   "metadata": {},
   "outputs": [],
   "source": [
    "cnn.add(tf.keras.layers.Dense(units=1,activation='sigmoid'))"
   ]
  },
  {
   "cell_type": "markdown",
   "id": "2eeb2899",
   "metadata": {},
   "source": [
    "## Displaying the model summary"
   ]
  },
  {
   "cell_type": "code",
   "execution_count": 13,
   "id": "d74efda9",
   "metadata": {},
   "outputs": [
    {
     "name": "stdout",
     "output_type": "stream",
     "text": [
      "Model: \"sequential\"\n",
      "_________________________________________________________________\n",
      " Layer (type)                Output Shape              Param #   \n",
      "=================================================================\n",
      " conv2d (Conv2D)             (None, 62, 62, 32)        896       \n",
      "                                                                 \n",
      " max_pooling2d (MaxPooling2D  (None, 31, 31, 32)       0         \n",
      " )                                                               \n",
      "                                                                 \n",
      " conv2d_1 (Conv2D)           (None, 29, 29, 32)        9248      \n",
      "                                                                 \n",
      " max_pooling2d_1 (MaxPooling  (None, 14, 14, 32)       0         \n",
      " 2D)                                                             \n",
      "                                                                 \n",
      " flatten (Flatten)           (None, 6272)              0         \n",
      "                                                                 \n",
      " dense (Dense)               (None, 128)               802944    \n",
      "                                                                 \n",
      " dense_1 (Dense)             (None, 1)                 129       \n",
      "                                                                 \n",
      "=================================================================\n",
      "Total params: 813,217\n",
      "Trainable params: 813,217\n",
      "Non-trainable params: 0\n",
      "_________________________________________________________________\n"
     ]
    }
   ],
   "source": [
    "cnn.summary()"
   ]
  },
  {
   "cell_type": "markdown",
   "id": "bd179bd2",
   "metadata": {},
   "source": [
    "## Compiling the model"
   ]
  },
  {
   "cell_type": "code",
   "execution_count": 14,
   "id": "4ee5f2f3",
   "metadata": {},
   "outputs": [],
   "source": [
    "cnn.compile(optimizer='adam',loss='binary_crossentropy',metrics=['accuracy'])"
   ]
  },
  {
   "cell_type": "markdown",
   "id": "ffcff06d",
   "metadata": {},
   "source": [
    "## Training the model"
   ]
  },
  {
   "cell_type": "code",
   "execution_count": null,
   "id": "f9e816dd",
   "metadata": {},
   "outputs": [
    {
     "name": "stdout",
     "output_type": "stream",
     "text": [
      "Epoch 1/50\n",
      "23/75 [========>.....................] - ETA: 28s - loss: 0.6970 - accuracy: 0.5666"
     ]
    },
    {
     "name": "stderr",
     "output_type": "stream",
     "text": [
      "C:\\Users\\haris\\anaconda3\\lib\\site-packages\\PIL\\Image.py:959: UserWarning: Palette images with Transparency expressed in bytes should be converted to RGBA images\n",
      "  warnings.warn(\n"
     ]
    },
    {
     "name": "stdout",
     "output_type": "stream",
     "text": [
      "75/75 [==============================] - ETA: 0s - loss: 0.5319 - accuracy: 0.7246"
     ]
    }
   ],
   "source": [
    "cnn.fit(x = training_set, validation_data = test_set, epochs= 50)"
   ]
  },
  {
   "cell_type": "markdown",
   "id": "67c96d66",
   "metadata": {},
   "source": [
    "## Loading and preprocessing the test image"
   ]
  },
  {
   "cell_type": "code",
   "execution_count": null,
   "id": "748caee3",
   "metadata": {},
   "outputs": [],
   "source": [
    "import numpy as np\n",
    "from keras.preprocessing import image \n",
    "test_image = tf.keras.utils.load_img('C:/Users/haris/Downloads/Deep Learning/Car and bike image classification/Car-Bike-Dataset/test/Cars/Car (6).jpg',\n",
    "                           target_size = (64,64))"
   ]
  },
  {
   "cell_type": "code",
   "execution_count": null,
   "id": "cf4a7f9e",
   "metadata": {},
   "outputs": [],
   "source": [
    "test_image"
   ]
  },
  {
   "cell_type": "markdown",
   "id": "b0c3034e",
   "metadata": {},
   "source": [
    "## Converting the test image to an array"
   ]
  },
  {
   "cell_type": "code",
   "execution_count": null,
   "id": "a9c8a210",
   "metadata": {},
   "outputs": [],
   "source": [
    "test_image = tf.keras.utils.img_to_array(test_image)\n",
    "test_image"
   ]
  },
  {
   "cell_type": "markdown",
   "id": "16168a19",
   "metadata": {},
   "source": [
    "## Expanding dimensions to match the model's input shape"
   ]
  },
  {
   "cell_type": "code",
   "execution_count": null,
   "id": "5d983369",
   "metadata": {},
   "outputs": [],
   "source": [
    "test_image = np.expand_dims(test_image,axis=0)\n",
    "test_image"
   ]
  },
  {
   "cell_type": "markdown",
   "id": "ef4a42da",
   "metadata": {},
   "source": [
    "### Predicting the class of the test image"
   ]
  },
  {
   "cell_type": "code",
   "execution_count": null,
   "id": "80b45647",
   "metadata": {},
   "outputs": [],
   "source": [
    "result =cnn.predict(test_image)"
   ]
  },
  {
   "cell_type": "markdown",
   "id": "1b13761a",
   "metadata": {},
   "source": [
    "### Assigning a label based on the prediction"
   ]
  },
  {
   "cell_type": "code",
   "execution_count": null,
   "id": "be74ff5b",
   "metadata": {},
   "outputs": [],
   "source": [
    "if result[0][0] == 1:\n",
    "    prediction = 'Car'\n",
    "else:\n",
    "    prediction = 'Bike'"
   ]
  },
  {
   "cell_type": "code",
   "execution_count": null,
   "id": "9504692d",
   "metadata": {},
   "outputs": [],
   "source": [
    "print(prediction)"
   ]
  },
  {
   "cell_type": "code",
   "execution_count": null,
   "id": "fa8e0518",
   "metadata": {},
   "outputs": [],
   "source": []
  }
 ],
 "metadata": {
  "kernelspec": {
   "display_name": "Python 3 (ipykernel)",
   "language": "python",
   "name": "python3"
  },
  "language_info": {
   "codemirror_mode": {
    "name": "ipython",
    "version": 3
   },
   "file_extension": ".py",
   "mimetype": "text/x-python",
   "name": "python",
   "nbconvert_exporter": "python",
   "pygments_lexer": "ipython3",
   "version": "3.9.13"
  }
 },
 "nbformat": 4,
 "nbformat_minor": 5
}
